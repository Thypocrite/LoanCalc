{
 "cells": [
  {
   "cell_type": "code",
   "execution_count": 3,
   "metadata": {},
   "outputs": [],
   "source": [
    "import requests"
   ]
  },
  {
   "cell_type": "code",
   "execution_count": 4,
   "metadata": {},
   "outputs": [],
   "source": [
    "amount =100000\n",
    "interestRate=10\n",
    "loanYear=3"
   ]
  },
  {
   "cell_type": "markdown",
   "metadata": {},
   "source": [
    "### 本金攤還"
   ]
  },
  {
   "cell_type": "code",
   "execution_count": 5,
   "metadata": {},
   "outputs": [
    {
     "data": {
      "text/plain": [
       "36"
      ]
     },
     "execution_count": 5,
     "metadata": {},
     "output_type": "execute_result"
    }
   ],
   "source": [
    "period=loanYear*12\n",
    "period"
   ]
  },
  {
   "cell_type": "code",
   "execution_count": 6,
   "metadata": {},
   "outputs": [
    {
     "data": {
      "text/plain": [
       "2777"
      ]
     },
     "execution_count": 6,
     "metadata": {},
     "output_type": "execute_result"
    }
   ],
   "source": [
    "monthReplacement=int(amount/period)\n",
    "monthReplacement"
   ]
  },
  {
   "cell_type": "markdown",
   "metadata": {},
   "source": [
    "#### 每月償還本金\n",
    "* 貸款餘額*(月利率)"
   ]
  },
  {
   "cell_type": "code",
   "execution_count": 7,
   "metadata": {},
   "outputs": [
    {
     "data": {
      "text/plain": [
       "833"
      ]
     },
     "execution_count": 7,
     "metadata": {},
     "output_type": "execute_result"
    }
   ],
   "source": [
    "interest=round(amount*(interestRate/100/12))\n",
    "interest"
   ]
  },
  {
   "cell_type": "code",
   "execution_count": 10,
   "metadata": {},
   "outputs": [
    {
     "name": "stdout",
     "output_type": "stream",
     "text": [
      "期別1 償還本金:2777 償還利息:833 償還本利和3610 貸款餘額:97223\n",
      "期別2 償還本金:2777 償還利息:810 償還本利和3587 貸款餘額:94446\n",
      "期別3 償還本金:2777 償還利息:787 償還本利和3564 貸款餘額:91669\n",
      "期別4 償還本金:2777 償還利息:764 償還本利和3541 貸款餘額:88892\n",
      "期別5 償還本金:2777 償還利息:741 償還本利和3518 貸款餘額:86115\n",
      "期別6 償還本金:2777 償還利息:718 償還本利和3495 貸款餘額:83338\n",
      "期別7 償還本金:2777 償還利息:694 償還本利和3471 貸款餘額:80561\n",
      "期別8 償還本金:2777 償還利息:671 償還本利和3448 貸款餘額:77784\n",
      "期別9 償還本金:2777 償還利息:648 償還本利和3425 貸款餘額:75007\n",
      "期別10 償還本金:2777 償還利息:625 償還本利和3402 貸款餘額:72230\n",
      "期別11 償還本金:2777 償還利息:602 償還本利和3379 貸款餘額:69453\n",
      "期別12 償還本金:2777 償還利息:579 償還本利和3356 貸款餘額:66676\n",
      "期別13 償還本金:2777 償還利息:556 償還本利和3333 貸款餘額:63899\n",
      "期別14 償還本金:2777 償還利息:532 償還本利和3309 貸款餘額:61122\n",
      "期別15 償還本金:2777 償還利息:509 償還本利和3286 貸款餘額:58345\n",
      "期別16 償還本金:2777 償還利息:486 償還本利和3263 貸款餘額:55568\n",
      "期別17 償還本金:2777 償還利息:463 償還本利和3240 貸款餘額:52791\n",
      "期別18 償還本金:2777 償還利息:440 償還本利和3217 貸款餘額:50014\n",
      "期別19 償還本金:2777 償還利息:417 償還本利和3194 貸款餘額:47237\n",
      "期別20 償還本金:2777 償還利息:394 償還本利和3171 貸款餘額:44460\n",
      "期別21 償還本金:2777 償還利息:370 償還本利和3147 貸款餘額:41683\n",
      "期別22 償還本金:2777 償還利息:347 償還本利和3124 貸款餘額:38906\n",
      "期別23 償還本金:2777 償還利息:324 償還本利和3101 貸款餘額:36129\n",
      "期別24 償還本金:2777 償還利息:301 償還本利和3078 貸款餘額:33352\n",
      "期別25 償還本金:2777 償還利息:278 償還本利和3055 貸款餘額:30575\n",
      "期別26 償還本金:2777 償還利息:255 償還本利和3032 貸款餘額:27798\n",
      "期別27 償還本金:2777 償還利息:232 償還本利和3009 貸款餘額:25021\n",
      "期別28 償還本金:2777 償還利息:209 償還本利和2986 貸款餘額:22244\n",
      "期別29 償還本金:2777 償還利息:185 償還本利和2962 貸款餘額:19467\n",
      "期別30 償還本金:2777 償還利息:162 償還本利和2939 貸款餘額:16690\n",
      "期別31 償還本金:2777 償還利息:139 償還本利和2916 貸款餘額:13913\n",
      "期別32 償還本金:2777 償還利息:116 償還本利和2893 貸款餘額:11136\n",
      "期別33 償還本金:2777 償還利息:93 償還本利和2870 貸款餘額:8359\n",
      "期別34 償還本金:2777 償還利息:70 償還本利和2847 貸款餘額:5582\n",
      "期別35 償還本金:2777 償還利息:47 償還本利和2824 貸款餘額:2805\n",
      "期別36 償還本金:2805 償還利息:23 償還本利和2828 貸款餘額:0\n"
     ]
    }
   ],
   "source": [
    "amount =100000\n",
    "interestRate=10\n",
    "loanYear=3\n",
    "period=loanYear*12\n",
    "interest=round(amount*(interestRate/100/12))\n",
    "\n",
    "\n",
    "for i in range(period):\n",
    "    interest=round(amount*(interestRate/100/12))\n",
    "    \n",
    "    if i==period-1:\n",
    "        monthReplacement=amount\n",
    "        print(f'期別{i+1} 償還本金:{monthReplacement} 償還利息:{interest} 償還本利和{monthReplacement+interest} 貸款餘額:{amount-monthReplacement}')\n",
    "    else:\n",
    "        print(f'期別{i+1} 償還本金:{monthReplacement} 償還利息:{interest} 償還本利和{monthReplacement+interest} 貸款餘額:{amount-monthReplacement}')\n",
    "        amount=amount-monthReplacement\n",
    "    \n",
    "\n"
   ]
  },
  {
   "cell_type": "code",
   "execution_count": null,
   "metadata": {},
   "outputs": [],
   "source": []
  },
  {
   "cell_type": "code",
   "execution_count": null,
   "metadata": {},
   "outputs": [],
   "source": []
  }
 ],
 "metadata": {
  "kernelspec": {
   "display_name": "Python 3.8.5 ('base')",
   "language": "python",
   "name": "python3"
  },
  "language_info": {
   "codemirror_mode": {
    "name": "ipython",
    "version": 3
   },
   "file_extension": ".py",
   "mimetype": "text/x-python",
   "name": "python",
   "nbconvert_exporter": "python",
   "pygments_lexer": "ipython3",
   "version": "3.8.5"
  },
  "orig_nbformat": 4,
  "vscode": {
   "interpreter": {
    "hash": "ad2bdc8ecc057115af97d19610ffacc2b4e99fae6737bb82f5d7fb13d2f2c186"
   }
  }
 },
 "nbformat": 4,
 "nbformat_minor": 2
}
